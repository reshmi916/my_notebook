{
  "nbformat": 4,
  "nbformat_minor": 0,
  "metadata": {
    "colab": {
      "provenance": []
    },
    "kernelspec": {
      "name": "python3",
      "display_name": "Python 3"
    },
    "language_info": {
      "name": "python"
    }
  },
  "cells": [
    {
      "cell_type": "code",
      "execution_count": null,
      "metadata": {
        "colab": {
          "base_uri": "https://localhost:8080/"
        },
        "id": "9mDW2fcoy7Mn",
        "outputId": "124ac4f8-7617-48d2-d214-6e8e5598507e"
      },
      "outputs": [
        {
          "output_type": "stream",
          "name": "stdout",
          "text": [
            "Welcome to the machine\n",
            "Enter the amount to be deposited:1500\n",
            "Amount deposited: 1500.0\n",
            "Enter the amount to be withdrawn:200\n",
            "Withdrew Amount: 200.0\n",
            "Net Available Balance: 1300.0\n"
          ]
        }
      ],
      "source": [
        "class BankAccount:\n",
        "    def __init__(self):\n",
        "        self.balance=0\n",
        "        print('Welcome to the machine')\n",
        "    def deposit(self):\n",
        "        Amount=float(input('Enter the amount to be deposited:'))\n",
        "        self.balance=self.balance+Amount\n",
        "        print(\"Amount deposited:\",Amount)\n",
        "    def withdraw(self):\n",
        "        Amount=float(input('Enter the amount to be withdrawn:'))\n",
        "        if Amount<self.balance:\n",
        "            self.balance=self.balance-Amount\n",
        "            print('Withdrew Amount:',Amount)\n",
        "        else:\n",
        "            print('Insufficient balance')\n",
        "    def display(self):\n",
        "        print(\"Net Available Balance:\",self.balance)\n",
        "\n",
        "s=BankAccount()\n",
        "s.deposit()\n",
        "s.withdraw()\n",
        "s.display()"
      ]
    }
  ]
}
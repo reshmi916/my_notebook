{
  "nbformat": 4,
  "nbformat_minor": 0,
  "metadata": {
    "colab": {
      "provenance": [],
      "authorship_tag": "ABX9TyNpSeG92a1W6Yim9faqztOn",
      "include_colab_link": true
    },
    "kernelspec": {
      "name": "python3",
      "display_name": "Python 3"
    },
    "language_info": {
      "name": "python"
    }
  },
  "cells": [
    {
      "cell_type": "markdown",
      "metadata": {
        "id": "view-in-github",
        "colab_type": "text"
      },
      "source": [
        "<a href=\"https://colab.research.google.com/github/reshmi916/my_notebook/blob/main/weather_data.ipynb\" target=\"_parent\"><img src=\"https://colab.research.google.com/assets/colab-badge.svg\" alt=\"Open In Colab\"/></a>"
      ]
    },
    {
      "cell_type": "code",
      "execution_count": 2,
      "metadata": {
        "colab": {
          "base_uri": "https://localhost:8080/"
        },
        "id": "SNMoVxCnrMgX",
        "outputId": "0a661a26-ec08-4054-93d6-8f1114b42169"
      },
      "outputs": [
        {
          "output_type": "stream",
          "name": "stdout",
          "text": [
            "Enter the range:4\n",
            "Date:01-01-25\n",
            "Temperature:32\n",
            "Humidity:56\n",
            "Sunny/Rainy:Sunny\n",
            "Date:02-01-25\n",
            "Temperature:34\n",
            "Humidity:52\n",
            "Sunny/Rainy:Sunny\n",
            "Date:03-01-25\n",
            "Temperature:30\n",
            "Humidity:59\n",
            "Sunny/Rainy:Rainy\n",
            "Date:04-01-25\n",
            "Temperature:31\n",
            "Humidity:62\n",
            "Sunny/Rainy:Rainy\n",
            "Date= ['01-01-25', '02-01-25', '03-01-25', '04-01-25']\n",
            "Temperature= [32.0, 34.0, 30.0, 31.0]\n",
            "Humidity= [56.0, 52.0, 59.0, 62.0]\n",
            "Humidity= 57.25 %\n",
            "Sunny/Rainy = ['Sunny', 'Sunny', 'Rainy', 'Rainy']\n",
            "Average Temperature= 31.75 °C\n",
            "Maximum Temperature= 34.0 °C\n",
            "Minimum Temperature= 30.0 °C\n",
            "Enter the date:05-01-25\n",
            "temp:33\n",
            "Humid:58\n",
            "Cloudy/Not:Not\n",
            "Sunny\n"
          ]
        }
      ],
      "source": [
        "Date=[]\n",
        "Temperature=[]\n",
        "Humidity=[]\n",
        "s=[]\n",
        "n=int(input('Enter the range:'))\n",
        "for i in range(n):\n",
        "  x=input('Date:')\n",
        "  Date.append(x)\n",
        "  y=float(input(\"Temperature:\"))\n",
        "  Temperature.append(y)\n",
        "  z=float(input(\"Humidity:\"))\n",
        "  Humidity.append(z)\n",
        "  a=str(input(\"Sunny/Rainy:\"))\n",
        "  s.append(a)\n",
        "print('Date=',Date)\n",
        "print('Temperature=',Temperature)\n",
        "print('Humidity=',Humidity)\n",
        "t=(sum(Humidity)/n)\n",
        "print(\"Humidity=\",t,'%')\n",
        "print('Sunny/Rainy =',s)\n",
        "print('Average Temperature=',sum(Temperature)/n,'°C')\n",
        "print('Maximum Temperature=',max(Temperature),'°C')\n",
        "print('Minimum Temperature=',min(Temperature),'°C')\n",
        "dat=input('Enter the date:')\n",
        "tem=float(input('temp:'))\n",
        "Hum=float(input('Humid:'))\n",
        "v=str(input(\"Cloudy/Not:\"))\n",
        "if tem<(sum(Temperature)/n) and Hum>t and v=='Cloudy':\n",
        "  print(\"Rainy\")\n",
        "elif tem<min(Temperature) and Hum>t and v=='Cloudy':\n",
        "  print(\"Rainy\")\n",
        "else:\n",
        "  print(\"Sunny\")\n"
      ]
    }
  ]
}
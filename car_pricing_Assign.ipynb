{
 "cells": [
  {
   "cell_type": "code",
   "execution_count": 1023,
   "id": "9c326282-42ad-4940-8111-7ee64319e937",
   "metadata": {},
   "outputs": [],
   "source": [
    "import numpy as np\n",
    "import pandas as pd\n",
    "import matplotlib.pyplot as plt\n",
    "import seaborn as sns\n",
    "import warnings\n",
    "warnings.filterwarnings('ignore')"
   ]
  },
  {
   "cell_type": "code",
   "execution_count": 1024,
   "id": "d199d6f4-b5ab-4e16-a1d5-2aec581005d3",
   "metadata": {},
   "outputs": [],
   "source": [
    "data=pd.read_csv(r\"C:\\Users\\reshm\\OneDrive\\Desktop\\New folder\\car_age_price.csv\")"
   ]
  },
  {
   "cell_type": "code",
   "execution_count": 1025,
   "id": "ad0507c0-da10-4cd4-93ba-268c4ed9d2ff",
   "metadata": {},
   "outputs": [
    {
     "data": {
      "text/html": [
       "<div>\n",
       "<style scoped>\n",
       "    .dataframe tbody tr th:only-of-type {\n",
       "        vertical-align: middle;\n",
       "    }\n",
       "\n",
       "    .dataframe tbody tr th {\n",
       "        vertical-align: top;\n",
       "    }\n",
       "\n",
       "    .dataframe thead th {\n",
       "        text-align: right;\n",
       "    }\n",
       "</style>\n",
       "<table border=\"1\" class=\"dataframe\">\n",
       "  <thead>\n",
       "    <tr style=\"text-align: right;\">\n",
       "      <th></th>\n",
       "      <th>Year</th>\n",
       "      <th>Price</th>\n",
       "    </tr>\n",
       "  </thead>\n",
       "  <tbody>\n",
       "    <tr>\n",
       "      <th>0</th>\n",
       "      <td>2018</td>\n",
       "      <td>465000</td>\n",
       "    </tr>\n",
       "    <tr>\n",
       "      <th>1</th>\n",
       "      <td>2019</td>\n",
       "      <td>755000</td>\n",
       "    </tr>\n",
       "    <tr>\n",
       "      <th>2</th>\n",
       "      <td>2019</td>\n",
       "      <td>700000</td>\n",
       "    </tr>\n",
       "    <tr>\n",
       "      <th>3</th>\n",
       "      <td>2018</td>\n",
       "      <td>465000</td>\n",
       "    </tr>\n",
       "    <tr>\n",
       "      <th>4</th>\n",
       "      <td>2018</td>\n",
       "      <td>465000</td>\n",
       "    </tr>\n",
       "  </tbody>\n",
       "</table>\n",
       "</div>"
      ],
      "text/plain": [
       "   Year   Price\n",
       "0  2018  465000\n",
       "1  2019  755000\n",
       "2  2019  700000\n",
       "3  2018  465000\n",
       "4  2018  465000"
      ]
     },
     "execution_count": 1025,
     "metadata": {},
     "output_type": "execute_result"
    }
   ],
   "source": [
    "data.head()"
   ]
  },
  {
   "cell_type": "code",
   "execution_count": 1026,
   "id": "01cbd3f3-9720-4f58-aa98-416d2b80d781",
   "metadata": {},
   "outputs": [
    {
     "data": {
      "text/plain": [
       "(112, 2)"
      ]
     },
     "execution_count": 1026,
     "metadata": {},
     "output_type": "execute_result"
    }
   ],
   "source": [
    "data.shape"
   ]
  },
  {
   "cell_type": "code",
   "execution_count": 1027,
   "id": "59885d1f-5f61-43b8-9a04-7569d81d6bf4",
   "metadata": {},
   "outputs": [
    {
     "data": {
      "text/plain": [
       "8"
      ]
     },
     "execution_count": 1027,
     "metadata": {},
     "output_type": "execute_result"
    }
   ],
   "source": [
    "data['Year'].nunique()"
   ]
  },
  {
   "cell_type": "code",
   "execution_count": 1028,
   "id": "cdad6888-8ff9-4b77-af3b-1f8b0b035d4b",
   "metadata": {},
   "outputs": [
    {
     "data": {
      "text/plain": [
       "array([2018, 2019, 2015, 2016, 2017, 2020, 2013, 2014])"
      ]
     },
     "execution_count": 1028,
     "metadata": {},
     "output_type": "execute_result"
    }
   ],
   "source": [
    "data['Year'].unique()"
   ]
  },
  {
   "cell_type": "code",
   "execution_count": 1029,
   "id": "27804de7-c291-40de-aa8e-a95f6f414d76",
   "metadata": {},
   "outputs": [
    {
     "name": "stdout",
     "output_type": "stream",
     "text": [
      "<class 'pandas.core.frame.DataFrame'>\n",
      "RangeIndex: 112 entries, 0 to 111\n",
      "Data columns (total 2 columns):\n",
      " #   Column  Non-Null Count  Dtype\n",
      "---  ------  --------------  -----\n",
      " 0   Year    112 non-null    int64\n",
      " 1   Price   112 non-null    int64\n",
      "dtypes: int64(2)\n",
      "memory usage: 1.9 KB\n"
     ]
    }
   ],
   "source": [
    "data.info()"
   ]
  },
  {
   "cell_type": "code",
   "execution_count": 1030,
   "id": "f8403b40-d133-4b79-8654-40d3e9058440",
   "metadata": {},
   "outputs": [
    {
     "data": {
      "text/plain": [
       "Year     0\n",
       "Price    0\n",
       "dtype: int64"
      ]
     },
     "execution_count": 1030,
     "metadata": {},
     "output_type": "execute_result"
    }
   ],
   "source": [
    "data.isna().sum()"
   ]
  },
  {
   "cell_type": "code",
   "execution_count": 1031,
   "id": "39136378-a082-4778-882b-84ae4c5fba33",
   "metadata": {},
   "outputs": [
    {
     "data": {
      "text/plain": [
       "Index(['Year', 'Price'], dtype='object')"
      ]
     },
     "execution_count": 1031,
     "metadata": {},
     "output_type": "execute_result"
    }
   ],
   "source": [
    "data.columns"
   ]
  },
  {
   "cell_type": "code",
   "execution_count": 1032,
   "id": "c9a8f38e-e088-4c11-9aba-559eb00c7dba",
   "metadata": {},
   "outputs": [
    {
     "data": {
      "text/html": [
       "<div>\n",
       "<style scoped>\n",
       "    .dataframe tbody tr th:only-of-type {\n",
       "        vertical-align: middle;\n",
       "    }\n",
       "\n",
       "    .dataframe tbody tr th {\n",
       "        vertical-align: top;\n",
       "    }\n",
       "\n",
       "    .dataframe thead th {\n",
       "        text-align: right;\n",
       "    }\n",
       "</style>\n",
       "<table border=\"1\" class=\"dataframe\">\n",
       "  <thead>\n",
       "    <tr style=\"text-align: right;\">\n",
       "      <th></th>\n",
       "      <th>Year</th>\n",
       "      <th>Price</th>\n",
       "    </tr>\n",
       "  </thead>\n",
       "  <tbody>\n",
       "    <tr>\n",
       "      <th>count</th>\n",
       "      <td>112.000000</td>\n",
       "      <td>112.000000</td>\n",
       "    </tr>\n",
       "    <tr>\n",
       "      <th>mean</th>\n",
       "      <td>2016.669643</td>\n",
       "      <td>483866.044643</td>\n",
       "    </tr>\n",
       "    <tr>\n",
       "      <th>std</th>\n",
       "      <td>1.629616</td>\n",
       "      <td>91217.450533</td>\n",
       "    </tr>\n",
       "    <tr>\n",
       "      <th>min</th>\n",
       "      <td>2013.000000</td>\n",
       "      <td>300000.000000</td>\n",
       "    </tr>\n",
       "    <tr>\n",
       "      <th>25%</th>\n",
       "      <td>2015.000000</td>\n",
       "      <td>423750.000000</td>\n",
       "    </tr>\n",
       "    <tr>\n",
       "      <th>50%</th>\n",
       "      <td>2017.000000</td>\n",
       "      <td>500000.000000</td>\n",
       "    </tr>\n",
       "    <tr>\n",
       "      <th>75%</th>\n",
       "      <td>2017.000000</td>\n",
       "      <td>550000.000000</td>\n",
       "    </tr>\n",
       "    <tr>\n",
       "      <th>max</th>\n",
       "      <td>2020.000000</td>\n",
       "      <td>755000.000000</td>\n",
       "    </tr>\n",
       "  </tbody>\n",
       "</table>\n",
       "</div>"
      ],
      "text/plain": [
       "              Year          Price\n",
       "count   112.000000     112.000000\n",
       "mean   2016.669643  483866.044643\n",
       "std       1.629616   91217.450533\n",
       "min    2013.000000  300000.000000\n",
       "25%    2015.000000  423750.000000\n",
       "50%    2017.000000  500000.000000\n",
       "75%    2017.000000  550000.000000\n",
       "max    2020.000000  755000.000000"
      ]
     },
     "execution_count": 1032,
     "metadata": {},
     "output_type": "execute_result"
    }
   ],
   "source": [
    "data.describe()"
   ]
  },
  {
   "cell_type": "markdown",
   "id": "95dc6ca8-1ecd-4159-a8b1-2c9beaa37443",
   "metadata": {},
   "source": [
    "## Outlier Handling"
   ]
  },
  {
   "cell_type": "code",
   "execution_count": 1033,
   "id": "bf11d6f8-8dc0-4b00-9f7d-d5ecc900ecbf",
   "metadata": {},
   "outputs": [
    {
     "data": {
      "image/png": "[encoded data removed]",
      "text/plain": [
       "<Figure size 640x480 with 1 Axes>"
      ]
     },
     "metadata": {},
     "output_type": "display_data"
    }
   ],
   "source": [
    "plt.boxplot(data['Year'])\n",
    "plt.show()"
   ]
  },
  {
   "cell_type": "code",
   "execution_count": 1034,
   "id": "6f0475f8-bf5b-4b15-9522-3cb7f76fc6c5",
   "metadata": {},
   "outputs": [
    {
     "data": {
      "image/png": "[encoded data removed]",
      "text/plain": [
       "<Figure size 640x480 with 1 Axes>"
      ]
     },
     "metadata": {},
     "output_type": "display_data"
    }
   ],
   "source": [
    "plt.boxplot(data['Price'])\n",
    "plt.show()"
   ]
  },
  {
   "cell_type": "code",
   "execution_count": 1035,
   "id": "36c7b263-6a94-4f21-9eff-3b14b1026d31",
   "metadata": {},
   "outputs": [],
   "source": [
    "Q1=np.percentile(data['Price'],25)\n",
    "Q3=np.percentile(data['Price'],75)\n",
    "IQR=Q3-Q1"
   ]
  },
  {
   "cell_type": "code",
   "execution_count": 1036,
   "id": "66ea7ef2-0104-492c-9e96-393c86ab114b",
   "metadata": {},
   "outputs": [],
   "source": [
    "low_lim=Q1-1.5*IQR\n",
    "upp_lim=Q3+1.5*IQR"
   ]
  },
  {
   "cell_type": "code",
   "execution_count": 1037,
   "id": "18754d10-c653-4117-940a-76f515de1e83",
   "metadata": {},
   "outputs": [
    {
     "data": {
      "text/plain": [
       "(np.float64(234375.0), np.float64(739375.0))"
      ]
     },
     "execution_count": 1037,
     "metadata": {},
     "output_type": "execute_result"
    }
   ],
   "source": [
    "low_lim,upp_lim"
   ]
  },
  {
   "cell_type": "code",
   "execution_count": 1038,
   "id": "a08ff764-4c23-4a98-9489-8df753299594",
   "metadata": {},
   "outputs": [],
   "source": [
    "outlier=[]\n",
    "for i in data['Price']:\n",
    "    if i>upp_lim or i<low_lim:\n",
    "        outlier.append(i)"
   ]
  },
  {
   "cell_type": "code",
   "execution_count": 1039,
   "id": "61ca6ae6-995f-4cd1-8458-f86e9fee2f14",
   "metadata": {},
   "outputs": [
    {
     "data": {
      "text/plain": [
       "Index([1], dtype='int64')"
      ]
     },
     "execution_count": 1039,
     "metadata": {},
     "output_type": "execute_result"
    }
   ],
   "source": [
    "ind=data['Price']>upp_lim\n",
    "data.loc[ind].index"
   ]
  },
  {
   "cell_type": "code",
   "execution_count": 1040,
   "id": "9137cdc0-4eb5-42a5-9f76-444a7582e254",
   "metadata": {},
   "outputs": [],
   "source": [
    "data.drop([1],inplace=True)"
   ]
  },
  {
   "cell_type": "code",
   "execution_count": 1041,
   "id": "90632d17-965d-4fbc-9f56-817df8929603",
   "metadata": {},
   "outputs": [
    {
     "data": {
      "text/plain": [
       "(111, 2)"
      ]
     },
     "execution_count": 1041,
     "metadata": {},
     "output_type": "execute_result"
    }
   ],
   "source": [
    "data.shape"
   ]
  },
  {
   "cell_type": "markdown",
   "id": "12f41e32-5c35-49d9-80f3-052ce3d1cac0",
   "metadata": {},
   "source": [
    "##  Scaling"
   ]
  },
  {
   "cell_type": "code",
   "execution_count": 1042,
   "id": "229c1303-3bc1-4572-89fa-e9cf9956569c",
   "metadata": {},
   "outputs": [],
   "source": [
    "x=data.drop('Price',axis=1)\n",
    "y=data['Price']"
   ]
  },
  {
   "cell_type": "code",
   "execution_count": 1043,
   "id": "d66c94d1-64e5-43cc-bfdc-2411416a82d4",
   "metadata": {},
   "outputs": [],
   "source": [
    "from sklearn.preprocessing import StandardScaler\n",
    "std_scaler=StandardScaler()"
   ]
  },
  {
   "cell_type": "code",
   "execution_count": 1044,
   "id": "09cb42ee-85ab-4b20-a273-3bb8b0426e33",
   "metadata": {},
   "outputs": [],
   "source": [
    "x_scaled=std_scaler.fit_transform(x)"
   ]
  },
  {
   "cell_type": "code",
   "execution_count": 1045,
   "id": "efd31970-dd7c-4725-be27-df1b2d75e044",
   "metadata": {},
   "outputs": [
    {
     "data": {
      "text/html": [
       "<div>\n",
       "<style scoped>\n",
       "    .dataframe tbody tr th:only-of-type {\n",
       "        vertical-align: middle;\n",
       "    }\n",
       "\n",
       "    .dataframe tbody tr th {\n",
       "        vertical-align: top;\n",
       "    }\n",
       "\n",
       "    .dataframe thead th {\n",
       "        text-align: right;\n",
       "    }\n",
       "</style>\n",
       "<table border=\"1\" class=\"dataframe\">\n",
       "  <thead>\n",
       "    <tr style=\"text-align: right;\">\n",
       "      <th></th>\n",
       "      <th>0</th>\n",
       "    </tr>\n",
       "  </thead>\n",
       "  <tbody>\n",
       "    <tr>\n",
       "      <th>0</th>\n",
       "      <td>0.837062</td>\n",
       "    </tr>\n",
       "    <tr>\n",
       "      <th>1</th>\n",
       "      <td>1.456488</td>\n",
       "    </tr>\n",
       "    <tr>\n",
       "      <th>2</th>\n",
       "      <td>0.837062</td>\n",
       "    </tr>\n",
       "    <tr>\n",
       "      <th>3</th>\n",
       "      <td>0.837062</td>\n",
       "    </tr>\n",
       "    <tr>\n",
       "      <th>4</th>\n",
       "      <td>-1.021216</td>\n",
       "    </tr>\n",
       "  </tbody>\n",
       "</table>\n",
       "</div>"
      ],
      "text/plain": [
       "          0\n",
       "0  0.837062\n",
       "1  1.456488\n",
       "2  0.837062\n",
       "3  0.837062\n",
       "4 -1.021216"
      ]
     },
     "execution_count": 1045,
     "metadata": {},
     "output_type": "execute_result"
    }
   ],
   "source": [
    "x_scaled=pd.DataFrame(x_scaled)\n",
    "x_scaled.head()"
   ]
  },
  {
   "cell_type": "code",
   "execution_count": 1046,
   "id": "329db1b6-7a96-486b-9d6d-a927aa261341",
   "metadata": {},
   "outputs": [
    {
     "data": {
      "text/html": [
       "<div>\n",
       "<style scoped>\n",
       "    .dataframe tbody tr th:only-of-type {\n",
       "        vertical-align: middle;\n",
       "    }\n",
       "\n",
       "    .dataframe tbody tr th {\n",
       "        vertical-align: top;\n",
       "    }\n",
       "\n",
       "    .dataframe thead th {\n",
       "        text-align: right;\n",
       "    }\n",
       "</style>\n",
       "<table border=\"1\" class=\"dataframe\">\n",
       "  <thead>\n",
       "    <tr style=\"text-align: right;\">\n",
       "      <th></th>\n",
       "      <th>Year</th>\n",
       "    </tr>\n",
       "  </thead>\n",
       "  <tbody>\n",
       "    <tr>\n",
       "      <th>0</th>\n",
       "      <td>0.837062</td>\n",
       "    </tr>\n",
       "    <tr>\n",
       "      <th>1</th>\n",
       "      <td>1.456488</td>\n",
       "    </tr>\n",
       "    <tr>\n",
       "      <th>2</th>\n",
       "      <td>0.837062</td>\n",
       "    </tr>\n",
       "    <tr>\n",
       "      <th>3</th>\n",
       "      <td>0.837062</td>\n",
       "    </tr>\n",
       "    <tr>\n",
       "      <th>4</th>\n",
       "      <td>-1.021216</td>\n",
       "    </tr>\n",
       "  </tbody>\n",
       "</table>\n",
       "</div>"
      ],
      "text/plain": [
       "       Year\n",
       "0  0.837062\n",
       "1  1.456488\n",
       "2  0.837062\n",
       "3  0.837062\n",
       "4 -1.021216"
      ]
     },
     "execution_count": 1046,
     "metadata": {},
     "output_type": "execute_result"
    }
   ],
   "source": [
    "x_scaled.columns=['Year']\n",
    "x_scaled.head()"
   ]
  },
  {
   "cell_type": "code",
   "execution_count": 1047,
   "id": "1ded6409-78c1-4a41-88a0-715846d6e2b9",
   "metadata": {},
   "outputs": [],
   "source": [
    "from sklearn.model_selection import train_test_split\n",
    "x_train,x_test,y_train,y_test=train_test_split(x,y,test_size=0.2,random_state=42)"
   ]
  },
  {
   "cell_type": "markdown",
   "id": "3c60b92d-7c34-4b4b-aae6-03c2b270c0fc",
   "metadata": {},
   "source": [
    "### Linear Regression"
   ]
  },
  {
   "cell_type": "code",
   "execution_count": 1048,
   "id": "251e8053-e6aa-41f8-ab96-7d6e5e7a54cf",
   "metadata": {},
   "outputs": [],
   "source": [
    "from sklearn.linear_model import LinearRegression\n",
    "lr=LinearRegression()"
   ]
  },
  {
   "cell_type": "code",
   "execution_count": 1049,
   "id": "129204ee-5d77-4277-a0aa-b60f44e3c55b",
   "metadata": {},
   "outputs": [],
   "source": [
    "model=lr.fit(x_train,y_train)"
   ]
  },
  {
   "cell_type": "code",
   "execution_count": 1050,
   "id": "2b0a5fde-6b32-439a-97ba-cf4ec3737261",
   "metadata": {},
   "outputs": [
    {
     "data": {
      "text/plain": [
       "array([418695.08304033, 541198.43288521, 418695.08304033, 418695.08304033,\n",
       "       500363.98293692, 418695.08304033, 500363.98293692, 582032.8828335 ,\n",
       "       622867.33278179, 500363.98293692, 418695.08304033, 377860.63309203,\n",
       "       541198.43288521, 418695.08304033, 500363.98293692, 500363.98293692,\n",
       "       500363.98293692, 337026.18314373, 459529.53298862, 582032.8828335 ,\n",
       "       582032.8828335 , 500363.98293692, 500363.98293692])"
      ]
     },
     "execution_count": 1050,
     "metadata": {},
     "output_type": "execute_result"
    }
   ],
   "source": [
    "predictions=model.predict(x_test)\n",
    "predictions"
   ]
  },
  {
   "cell_type": "code",
   "execution_count": 1051,
   "id": "61cb51fc-d953-4028-ba6d-f0ae727729c4",
   "metadata": {},
   "outputs": [
    {
     "data": {
      "text/plain": [
       "79     400000\n",
       "11     500000\n",
       "5      350000\n",
       "85     320000\n",
       "65     495000\n",
       "69     300000\n",
       "31     550000\n",
       "46     500000\n",
       "97     640000\n",
       "12     500000\n",
       "80     390000\n",
       "81     390000\n",
       "0      465000\n",
       "82     390000\n",
       "19     500000\n",
       "71     490000\n",
       "57     550000\n",
       "73     320000\n",
       "110    420000\n",
       "43     550000\n",
       "13     600000\n",
       "37     486000\n",
       "66     525000\n",
       "Name: Price, dtype: int64"
      ]
     },
     "execution_count": 1051,
     "metadata": {},
     "output_type": "execute_result"
    }
   ],
   "source": [
    "y_test"
   ]
  },
  {
   "cell_type": "code",
   "execution_count": 1052,
   "id": "eac683a6-ba70-4729-be38-7915650ef98c",
   "metadata": {},
   "outputs": [],
   "source": [
    "from sklearn.metrics import mean_squared_error,r2_score"
   ]
  },
  {
   "cell_type": "code",
   "execution_count": 1053,
   "id": "27b897ac-9984-457e-9a26-650ae191976c",
   "metadata": {},
   "outputs": [
    {
     "name": "stdout",
     "output_type": "stream",
     "text": [
      "Mean Squared Error= 2360736941.0488067\n",
      "R Squared Value= 0.7087665874512326\n"
     ]
    }
   ],
   "source": [
    "print('Mean Squared Error=',mean_squared_error(y_test,predictions))\n",
    "print('R Squared Value=',r2_score(y_test,predictions))"
   ]
  },
  {
   "cell_type": "code",
   "execution_count": 1054,
   "id": "256ed0ec-a8a8-401a-9cb6-f2115c2430a1",
   "metadata": {},
   "outputs": [],
   "source": [
    "Actual=[]\n",
    "for i in y_test:\n",
    "    Actual.append(i)    "
   ]
  },
  {
   "cell_type": "code",
   "execution_count": 1055,
   "id": "ec5105b4-d81e-4c84-987f-24c610aacc10",
   "metadata": {},
   "outputs": [],
   "source": [
    "predic=predictions.tolist()"
   ]
  },
  {
   "cell_type": "code",
   "execution_count": 1056,
   "id": "36966ff9-83b7-4a02-bc0e-d6e5f7b81a74",
   "metadata": {},
   "outputs": [
    {
     "data": {
      "image/png": "[encoded data removed]",
      "text/plain": [
       "<Figure size 640x480 with 1 Axes>"
      ]
     },
     "metadata": {},
     "output_type": "display_data"
    }
   ],
   "source": [
    "plt.plot(Actual,predic,marker='*',color='Red')\n",
    "plt.xlabel('Actual')\n",
    "plt.ylabel('Predict')\n",
    "plt.show()"
   ]
  },
  {
   "cell_type": "code",
   "execution_count": 1057,
   "id": "078177b5-cf0e-4b34-adef-a0ea1d352c04",
   "metadata": {},
   "outputs": [],
   "source": [
    "year_2022 = np.array([[2022]])"
   ]
  },
  {
   "cell_type": "code",
   "execution_count": 1058,
   "id": "144c1016-0a35-462b-952b-637bdb99f274",
   "metadata": {},
   "outputs": [
    {
     "data": {
      "text/plain": [
       "array([704536.23267838])"
      ]
     },
     "execution_count": 1058,
     "metadata": {},
     "output_type": "execute_result"
    }
   ],
   "source": [
    "predicted_price = model.predict(year_2022)\n",
    "predicted_price"
   ]
  },
  {
   "cell_type": "markdown",
   "id": "7d80f9eb-c523-4828-9329-c6e35df56a04",
   "metadata": {},
   "source": [
    "## Lasso Regression"
   ]
  },
  {
   "cell_type": "code",
   "execution_count": 1059,
   "id": "e6de954f-e852-45c0-91e2-94ed18de39ed",
   "metadata": {},
   "outputs": [],
   "source": [
    "from sklearn.linear_model import Lasso"
   ]
  },
  {
   "cell_type": "code",
   "execution_count": 1060,
   "id": "fa6778fa-2c1e-482f-a000-96ca2000ac6e",
   "metadata": {},
   "outputs": [],
   "source": [
    "lasso=Lasso(alpha=0.1)\n",
    "model_lasso=lasso.fit(x_train,y_train)"
   ]
  },
  {
   "cell_type": "code",
   "execution_count": 1061,
   "id": "4c003c02-533d-4306-8789-ab8e20448f3a",
   "metadata": {},
   "outputs": [],
   "source": [
    "predictions_lasso=model_lasso.predict(x_test)"
   ]
  },
  {
   "cell_type": "code",
   "execution_count": 1062,
   "id": "f695ed00-6304-45b6-b283-762d5bc93426",
   "metadata": {},
   "outputs": [
    {
     "name": "stdout",
     "output_type": "stream",
     "text": [
      "Mean Squared Error = 2360738206.8636756\n",
      "R squared value= 0.7087664312933915\n"
     ]
    }
   ],
   "source": [
    "print('Mean Squared Error =',mean_squared_error(y_test,predictions_lasso))\n",
    "print('R squared value=',r2_score(y_test,predictions_lasso))"
   ]
  },
  {
   "cell_type": "code",
   "execution_count": 1063,
   "id": "f4f14288-3f81-432e-9804-9e418a5e1dd1",
   "metadata": {},
   "outputs": [],
   "source": [
    "year1_2022 = np.array([[2022]])"
   ]
  },
  {
   "cell_type": "code",
   "execution_count": 1064,
   "id": "aea56edb-4c72-4bc5-9628-357dbf54e2bc",
   "metadata": {},
   "outputs": [
    {
     "data": {
      "text/plain": [
       "array([704536.01882109])"
      ]
     },
     "execution_count": 1064,
     "metadata": {},
     "output_type": "execute_result"
    }
   ],
   "source": [
    "predicted_price1 = lasso.predict(year1_2022)\n",
    "predicted_price1"
   ]
  },
  {
   "cell_type": "markdown",
   "id": "7f5629b4-41df-4dbb-8255-4d150af99289",
   "metadata": {},
   "source": [
    "## Ridge "
   ]
  },
  {
   "cell_type": "code",
   "execution_count": 1065,
   "id": "4a5e974a-79a8-4bf0-a077-c6a54f384692",
   "metadata": {},
   "outputs": [],
   "source": [
    "from sklearn.linear_model import Ridge"
   ]
  },
  {
   "cell_type": "code",
   "execution_count": 1066,
   "id": "aab7a19f-7633-491c-9ed5-e5407864f994",
   "metadata": {},
   "outputs": [],
   "source": [
    "ridge=Ridge(alpha=0.1)\n",
    "model_ridge=ridge.fit(x_train,y_train)"
   ]
  },
  {
   "cell_type": "code",
   "execution_count": 1067,
   "id": "7340976c-c349-49ae-ad41-eb9daab1d0cb",
   "metadata": {},
   "outputs": [],
   "source": [
    "predictions_ridge=model_ridge.predict(x_test)"
   ]
  },
  {
   "cell_type": "code",
   "execution_count": 1068,
   "id": "a3bdebbc-1d20-4392-b5dd-940e7afa365b",
   "metadata": {},
   "outputs": [
    {
     "name": "stdout",
     "output_type": "stream",
     "text": [
      "Mean Squared Error= 2361325087.996782\n",
      "R squared value= 0.7086940304289906\n"
     ]
    }
   ],
   "source": [
    "print('Mean Squared Error=',mean_squared_error(y_test,predictions_ridge))\n",
    "print('R squared value=',r2_score(y_test,predictions_ridge))"
   ]
  },
  {
   "cell_type": "code",
   "execution_count": 1069,
   "id": "a09f2b8b-5d70-4d7e-903b-f306e3bf7480",
   "metadata": {},
   "outputs": [],
   "source": [
    "year2_2022 = np.array([[2022]])"
   ]
  },
  {
   "cell_type": "code",
   "execution_count": 1070,
   "id": "1e5b15dd-b00d-46bd-b641-8af00782efc3",
   "metadata": {},
   "outputs": [
    {
     "data": {
      "text/plain": [
       "array([704437.04207495])"
      ]
     },
     "execution_count": 1070,
     "metadata": {},
     "output_type": "execute_result"
    }
   ],
   "source": [
    "predicted_price2 = ridge.predict(year2_2022)\n",
    "predicted_price2"
   ]
  },
  {
   "cell_type": "code",
   "execution_count": null,
   "id": "841c2e1d-a14b-41f3-af43-8fffe5303a6f",
   "metadata": {},
   "outputs": [],
   "source": []
  },
  {
   "cell_type": "code",
   "execution_count": null,
   "id": "85a95efe-5582-46b8-8803-0a79ded075fe",
   "metadata": {},
   "outputs": [],
   "source": []
  }
 ],
 "metadata": {
  "kernelspec": {
   "display_name": "Python 3 (ipykernel)",
   "language": "python",
   "name": "python3"
  },
  "language_info": {
   "codemirror_mode": {
    "name": "ipython",
    "version": 3
   },
   "file_extension": ".py",
   "mimetype": "text/x-python",
   "name": "python",
   "nbconvert_exporter": "python",
   "pygments_lexer": "ipython3",
   "version": "3.13.5"
  }
 },
 "nbformat": 4,
 "nbformat_minor": 5
}
